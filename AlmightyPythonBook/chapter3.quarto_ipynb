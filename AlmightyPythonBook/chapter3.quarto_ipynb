{
  "cells": [
    {
      "cell_type": "markdown",
      "metadata": {},
      "source": [
        "# Setting Up the Coding Environment\n",
        "\n",
        "In this chapter, we’ll set up everything you need to start coding in Python. To make things simple and fun, we’ll use **Visual Studio Code (VSCode)**—a free, lightweight, and powerful editor. If you’re new to coding, don’t worry. We’ll guide you step by step. By the end of this chapter, you’ll be all set to write and run your first Python program!\n",
        "\n",
        "Although we’ll focus on using VSCode, feel free to use another editor if you prefer. The steps might differ slightly, but the core concepts remain the same.\n",
        "\n",
        "---\n",
        "\n",
        "## Step 1: Installing VSCode\n",
        "\n",
        "1. Go to the [Visual Studio Code website](https://code.visualstudio.com/).\n",
        "2. You’ll see download options for Windows, macOS, and Linux. Click the one for your operating system.\n",
        "3. Once the download is complete, open the installer and follow the instructions.\n",
        "\n",
        "### Installation Tips:\n",
        "- **Windows:** Make sure you check the option to “Add to PATH” during installation. This will make it easier to use VSCode from the command line.\n",
        "- **macOS:** Drag the VSCode icon into your Applications folder.\n",
        "- **Linux:** Depending on your distribution, you might need to install it using a package manager (`apt`, `yum`, or `dnf`).\n",
        "\n",
        "Once installed, launch VSCode. You should see the welcome screen!\n",
        "\n",
        "```{::: {.callout-tip}\n",
        "Pin VSCode to your taskbar or dock for easy access.\n",
        ":::}\n",
        "\n",
        "---\n",
        "\n",
        "## Step 2: Installing Python\n",
        "\n",
        "Python is the language we’ll be using throughout this book. Let’s make sure it’s installed.\n",
        "\n",
        "1. Open a terminal (Command Prompt on Windows, Terminal on macOS/Linux).\n",
        "2. Type the following command:"
      ],
      "id": "4314e367"
    },
    {
      "cell_type": "code",
      "metadata": {
        "md-indent": "    "
      },
      "source": [
        "python --version"
      ],
      "id": "770d5fb1",
      "execution_count": null,
      "outputs": []
    },
    {
      "cell_type": "markdown",
      "metadata": {},
      "source": [
        "If Python is installed, you’ll see something like:\n"
      ],
      "id": "59b7655b"
    }
  ],
  "metadata": {
    "kernelspec": {
      "name": "python3",
      "language": "python",
      "display_name": "Python 3 (ipykernel)",
      "path": "/home/guy/.local/share/jupyter/kernels/python3"
    }
  },
  "nbformat": 4,
  "nbformat_minor": 5
}